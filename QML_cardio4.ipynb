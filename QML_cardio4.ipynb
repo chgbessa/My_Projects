{
 "cells": [
  {
   "cell_type": "code",
   "execution_count": 1,
   "id": "f7283ec6",
   "metadata": {},
   "outputs": [
    {
     "data": {
      "text/html": [
       "<div>\n",
       "<style scoped>\n",
       "    .dataframe tbody tr th:only-of-type {\n",
       "        vertical-align: middle;\n",
       "    }\n",
       "\n",
       "    .dataframe tbody tr th {\n",
       "        vertical-align: top;\n",
       "    }\n",
       "\n",
       "    .dataframe thead th {\n",
       "        text-align: right;\n",
       "    }\n",
       "</style>\n",
       "<table border=\"1\" class=\"dataframe\">\n",
       "  <thead>\n",
       "    <tr style=\"text-align: right;\">\n",
       "      <th></th>\n",
       "      <th>id</th>\n",
       "      <th>age</th>\n",
       "      <th>gender</th>\n",
       "      <th>height</th>\n",
       "      <th>weight</th>\n",
       "      <th>ap_hi</th>\n",
       "      <th>ap_lo</th>\n",
       "      <th>cholesterol</th>\n",
       "      <th>gluc</th>\n",
       "      <th>smoke</th>\n",
       "      <th>alco</th>\n",
       "      <th>active</th>\n",
       "      <th>cardio</th>\n",
       "    </tr>\n",
       "  </thead>\n",
       "  <tbody>\n",
       "    <tr>\n",
       "      <th>0</th>\n",
       "      <td>0</td>\n",
       "      <td>18393</td>\n",
       "      <td>2</td>\n",
       "      <td>168</td>\n",
       "      <td>62.0</td>\n",
       "      <td>110</td>\n",
       "      <td>80</td>\n",
       "      <td>1</td>\n",
       "      <td>1</td>\n",
       "      <td>0</td>\n",
       "      <td>0</td>\n",
       "      <td>1</td>\n",
       "      <td>0</td>\n",
       "    </tr>\n",
       "    <tr>\n",
       "      <th>1</th>\n",
       "      <td>1</td>\n",
       "      <td>20228</td>\n",
       "      <td>1</td>\n",
       "      <td>156</td>\n",
       "      <td>85.0</td>\n",
       "      <td>140</td>\n",
       "      <td>90</td>\n",
       "      <td>3</td>\n",
       "      <td>1</td>\n",
       "      <td>0</td>\n",
       "      <td>0</td>\n",
       "      <td>1</td>\n",
       "      <td>1</td>\n",
       "    </tr>\n",
       "    <tr>\n",
       "      <th>2</th>\n",
       "      <td>2</td>\n",
       "      <td>18857</td>\n",
       "      <td>1</td>\n",
       "      <td>165</td>\n",
       "      <td>64.0</td>\n",
       "      <td>130</td>\n",
       "      <td>70</td>\n",
       "      <td>3</td>\n",
       "      <td>1</td>\n",
       "      <td>0</td>\n",
       "      <td>0</td>\n",
       "      <td>0</td>\n",
       "      <td>1</td>\n",
       "    </tr>\n",
       "    <tr>\n",
       "      <th>3</th>\n",
       "      <td>3</td>\n",
       "      <td>17623</td>\n",
       "      <td>2</td>\n",
       "      <td>169</td>\n",
       "      <td>82.0</td>\n",
       "      <td>150</td>\n",
       "      <td>100</td>\n",
       "      <td>1</td>\n",
       "      <td>1</td>\n",
       "      <td>0</td>\n",
       "      <td>0</td>\n",
       "      <td>1</td>\n",
       "      <td>1</td>\n",
       "    </tr>\n",
       "    <tr>\n",
       "      <th>4</th>\n",
       "      <td>4</td>\n",
       "      <td>17474</td>\n",
       "      <td>1</td>\n",
       "      <td>156</td>\n",
       "      <td>56.0</td>\n",
       "      <td>100</td>\n",
       "      <td>60</td>\n",
       "      <td>1</td>\n",
       "      <td>1</td>\n",
       "      <td>0</td>\n",
       "      <td>0</td>\n",
       "      <td>0</td>\n",
       "      <td>0</td>\n",
       "    </tr>\n",
       "  </tbody>\n",
       "</table>\n",
       "</div>"
      ],
      "text/plain": [
       "   id    age  gender  height  weight  ap_hi  ap_lo  cholesterol  gluc  smoke  \\\n",
       "0   0  18393       2     168    62.0    110     80            1     1      0   \n",
       "1   1  20228       1     156    85.0    140     90            3     1      0   \n",
       "2   2  18857       1     165    64.0    130     70            3     1      0   \n",
       "3   3  17623       2     169    82.0    150    100            1     1      0   \n",
       "4   4  17474       1     156    56.0    100     60            1     1      0   \n",
       "\n",
       "   alco  active  cardio  \n",
       "0     0       1       0  \n",
       "1     0       1       1  \n",
       "2     0       0       1  \n",
       "3     0       1       1  \n",
       "4     0       0       0  "
      ]
     },
     "execution_count": 1,
     "metadata": {},
     "output_type": "execute_result"
    }
   ],
   "source": [
    "#Data Description\n",
    "#Age | Objective Feature | age | int (days)\n",
    "#Height | Objective Feature | height | int (cm) |\n",
    "#Weight | Objective Feature | weight | float (kg) |\n",
    "#Gender | Objective Feature | gender | categorical code | 1:woman 2: man\n",
    "#Systolic blood pressure | Examination Feature | ap_hi | int |\n",
    "#Diastolic blood pressure | Examination Feature | ap_lo | int |\n",
    "#Cholesterol | Examination Feature | cholesterol | 1: normal, 2: above normal, 3: well above normal |\n",
    "#Glucose | Examination Feature | gluc | 1: normal, 2: above normal, 3: well above normal |\n",
    "#Smoking | Subjective Feature | smoke | binary |\n",
    "#Alcohol intake | Subjective Feature | alco | binary |\n",
    "#11.Physical activity | Subjective Feature | active | binary |\n",
    "#12. Presence or absence of cardiovascular disease | Target Variable | cardio | 1: disease 0: no|\n",
    "\n",
    "\n",
    "import pandas as pd\n",
    "\n",
    "df = pd.read_csv('C:/Users/chgbessa/Documents/python/machine_learning/My_projects_QML/cardio_train.csv', \n",
    "                 delimiter = ';', nrows = None)\n",
    "\n",
    "df.head()"
   ]
  },
  {
   "cell_type": "code",
   "execution_count": 2,
   "id": "4adc674c",
   "metadata": {},
   "outputs": [],
   "source": [
    "#Lets transform age in years unstead of days\n",
    "\n",
    "df['age'] = df['age'].apply(lambda x: x/365)\n",
    "\n",
    "df['age'] = df['age'].astype(int)"
   ]
  },
  {
   "cell_type": "code",
   "execution_count": 3,
   "id": "11133470",
   "metadata": {},
   "outputs": [
    {
     "data": {
      "text/html": [
       "<div>\n",
       "<style scoped>\n",
       "    .dataframe tbody tr th:only-of-type {\n",
       "        vertical-align: middle;\n",
       "    }\n",
       "\n",
       "    .dataframe tbody tr th {\n",
       "        vertical-align: top;\n",
       "    }\n",
       "\n",
       "    .dataframe thead th {\n",
       "        text-align: right;\n",
       "    }\n",
       "</style>\n",
       "<table border=\"1\" class=\"dataframe\">\n",
       "  <thead>\n",
       "    <tr style=\"text-align: right;\">\n",
       "      <th></th>\n",
       "      <th>id</th>\n",
       "      <th>age</th>\n",
       "      <th>gender</th>\n",
       "      <th>height</th>\n",
       "      <th>weight</th>\n",
       "      <th>ap_hi</th>\n",
       "      <th>ap_lo</th>\n",
       "      <th>cholesterol</th>\n",
       "      <th>gluc</th>\n",
       "      <th>smoke</th>\n",
       "      <th>alco</th>\n",
       "      <th>active</th>\n",
       "      <th>cardio</th>\n",
       "    </tr>\n",
       "  </thead>\n",
       "  <tbody>\n",
       "    <tr>\n",
       "      <th>0</th>\n",
       "      <td>0</td>\n",
       "      <td>50</td>\n",
       "      <td>2</td>\n",
       "      <td>168</td>\n",
       "      <td>62.0</td>\n",
       "      <td>110</td>\n",
       "      <td>80</td>\n",
       "      <td>1</td>\n",
       "      <td>1</td>\n",
       "      <td>0</td>\n",
       "      <td>0</td>\n",
       "      <td>1</td>\n",
       "      <td>0</td>\n",
       "    </tr>\n",
       "    <tr>\n",
       "      <th>1</th>\n",
       "      <td>1</td>\n",
       "      <td>55</td>\n",
       "      <td>1</td>\n",
       "      <td>156</td>\n",
       "      <td>85.0</td>\n",
       "      <td>140</td>\n",
       "      <td>90</td>\n",
       "      <td>3</td>\n",
       "      <td>1</td>\n",
       "      <td>0</td>\n",
       "      <td>0</td>\n",
       "      <td>1</td>\n",
       "      <td>1</td>\n",
       "    </tr>\n",
       "    <tr>\n",
       "      <th>2</th>\n",
       "      <td>2</td>\n",
       "      <td>51</td>\n",
       "      <td>1</td>\n",
       "      <td>165</td>\n",
       "      <td>64.0</td>\n",
       "      <td>130</td>\n",
       "      <td>70</td>\n",
       "      <td>3</td>\n",
       "      <td>1</td>\n",
       "      <td>0</td>\n",
       "      <td>0</td>\n",
       "      <td>0</td>\n",
       "      <td>1</td>\n",
       "    </tr>\n",
       "    <tr>\n",
       "      <th>3</th>\n",
       "      <td>3</td>\n",
       "      <td>48</td>\n",
       "      <td>2</td>\n",
       "      <td>169</td>\n",
       "      <td>82.0</td>\n",
       "      <td>150</td>\n",
       "      <td>100</td>\n",
       "      <td>1</td>\n",
       "      <td>1</td>\n",
       "      <td>0</td>\n",
       "      <td>0</td>\n",
       "      <td>1</td>\n",
       "      <td>1</td>\n",
       "    </tr>\n",
       "    <tr>\n",
       "      <th>4</th>\n",
       "      <td>4</td>\n",
       "      <td>47</td>\n",
       "      <td>1</td>\n",
       "      <td>156</td>\n",
       "      <td>56.0</td>\n",
       "      <td>100</td>\n",
       "      <td>60</td>\n",
       "      <td>1</td>\n",
       "      <td>1</td>\n",
       "      <td>0</td>\n",
       "      <td>0</td>\n",
       "      <td>0</td>\n",
       "      <td>0</td>\n",
       "    </tr>\n",
       "  </tbody>\n",
       "</table>\n",
       "</div>"
      ],
      "text/plain": [
       "   id  age  gender  height  weight  ap_hi  ap_lo  cholesterol  gluc  smoke  \\\n",
       "0   0   50       2     168    62.0    110     80            1     1      0   \n",
       "1   1   55       1     156    85.0    140     90            3     1      0   \n",
       "2   2   51       1     165    64.0    130     70            3     1      0   \n",
       "3   3   48       2     169    82.0    150    100            1     1      0   \n",
       "4   4   47       1     156    56.0    100     60            1     1      0   \n",
       "\n",
       "   alco  active  cardio  \n",
       "0     0       1       0  \n",
       "1     0       1       1  \n",
       "2     0       0       1  \n",
       "3     0       1       1  \n",
       "4     0       0       0  "
      ]
     },
     "execution_count": 3,
     "metadata": {},
     "output_type": "execute_result"
    }
   ],
   "source": [
    "df.head()"
   ]
  },
  {
   "cell_type": "code",
   "execution_count": 4,
   "id": "bef418f0",
   "metadata": {},
   "outputs": [],
   "source": [
    "# Listing 9.1: The chances of survival\n",
    "def chance_healthy(age):\n",
    "    pop = df[df.age.eq(age)]\n",
    "    healthy = pop[pop.cardio.eq(0)]\n",
    "    prob = len(healthy)/(len(pop)+1)\n",
    "    return \"A {}-year old passenger had a chance to survive of {}\".format(age, prob)"
   ]
  },
  {
   "cell_type": "code",
   "execution_count": 5,
   "id": "1161a1f7",
   "metadata": {},
   "outputs": [
    {
     "name": "stdout",
     "output_type": "stream",
     "text": [
      "A 55-year old passenger had a chance to survive of 0.44679226069246436\n",
      "A 48-year old passenger had a chance to survive of 0.5435982339955849\n"
     ]
    }
   ],
   "source": [
    "print(chance_healthy(55))\n",
    "print(chance_healthy(48))"
   ]
  },
  {
   "cell_type": "code",
   "execution_count": 6,
   "id": "596641d8",
   "metadata": {},
   "outputs": [
    {
     "name": "stdout",
     "output_type": "stream",
     "text": [
      "3406 young had a chance to be healthy of 0.77\n",
      "66594 old had a chance to be healthy of 0.49\n"
     ]
    }
   ],
   "source": [
    "# Listing 9.2: Health of a young\n",
    "# max age of a child\n",
    "max_young_age = 40\n",
    "\n",
    "# probability to be healthy of a young\n",
    "pop_young = df[df.age.le(max_young_age)]\n",
    "healthy_young = pop_young[pop_young.cardio.eq(0)]\n",
    "p_young = len(healthy_young)/len(pop_young)\n",
    "\n",
    "# probability to survive of olds\n",
    "pop_old = df[df.age.gt(max_young_age)]\n",
    "healthy_old = pop_old[pop_old.cardio.eq(0)]\n",
    "p_old = len(healthy_old)/len(pop_old)\n",
    "\n",
    "print(\"{} young had a chance to be healthy of {}\".format(len(pop_young), round(p_young, 2)))\n",
    "print(\"{} old had a chance to be healthy of {}\".format(len(pop_old), round(p_old, 2)))"
   ]
  },
  {
   "cell_type": "markdown",
   "id": "8e616954-4f3f-45db-88a3-a2210ac65df0",
   "metadata": {},
   "source": [
    "\n",
    "--------------------------------------------\n",
    "\n",
    "#Section 9.2: Composing Quantum ComputingControls\n",
    "\n",
    "------------------------------------------------"
   ]
  },
  {
   "cell_type": "code",
   "execution_count": 7,
   "id": "4d2db3f8-ba30-4ab1-aabf-d5a5f7debafb",
   "metadata": {},
   "outputs": [],
   "source": [
    "\n",
    "\n",
    "#importing libraries  \n",
    "\n",
    "from qiskit import QuantumCircuit \n",
    "from qiskit import transpile\n",
    "from qiskit_aer import AerSimulator\n",
    "\n",
    "from qiskit_ibm_runtime import SamplerV2\n",
    "from qiskit_ibm_runtime import QiskitRuntimeService\n",
    "#from qiskit.circuit.library import MCMT\n",
    "#from qiskit.visualization import plot_distribution\n",
    "#from qiskit.circuit.library import Diagonal\n",
    "#from qiskit.circuit.library import RGQFTMultiplier\n",
    "#from qiskit.circuit.library import Permutation\n",
    "#from qiskit.circuit.library import QFT\n",
    "from qiskit.visualization import plot_histogram\n",
    "import matplotlib.pyplot as plt\n",
    "\n",
    "\n",
    "\n",
    "#import numpy as np\n",
    "#import matplotlib.pyplot as plt\n",
    "#from qiskit.aqua.components.uncertainty_models import NormalDistribution, UniformDistribution, LogNormalDistributio\n",
    "#from qiskit_finance.circuit.library.probability_distributions import NormalDistribution, UniformDistribution,LogNormalDistribution\n",
    "#from math import sqrt\n",
    "from math import asin, sqrt"
   ]
  },
  {
   "cell_type": "code",
   "execution_count": 8,
   "id": "936298e8",
   "metadata": {},
   "outputs": [
    {
     "data": {
      "image/png": "[encoded data removed]",
      "text/plain": [
       "<Figure size 640x480 with 1 Axes>"
      ]
     },
     "execution_count": 8,
     "metadata": {},
     "output_type": "execute_result"
    }
   ],
   "source": [
    "# Listing 9.3: Specify the marginal probability\n",
    "\n",
    "\n",
    "def prob_to_angle(prob):\n",
    "    \"\"\"\n",
    "    Converts a given P(psi) value into an equivalent theta value.\n",
    "    \"\"\"\n",
    "    return 2*asin(sqrt(prob))\n",
    "    \n",
    "qc = QuantumCircuit(1)\n",
    "\n",
    "# Set qubit to prior\n",
    "qc.ry(prob_to_angle(0.5), 0)   #Prior = 0.5\n",
    "\n",
    "qc.measure_all()\n",
    "\n",
    "#Defining backend and sampler\n",
    "\n",
    "backend_aer = AerSimulator()\n",
    "sampler_aer = SamplerV2(backend_aer)\n",
    "\n",
    "\n",
    "\n",
    "# execute the qc\n",
    "#results = execute(qc,Aer.get_backend('statevector_simulator')).result().get_counts()\n",
    "job_aer = sampler_aer.run([(qc, None, 1000)]) # running the circuit 1000 times\n",
    "\n",
    "result = job_aer.result()\n",
    "counts = result[0].data.meas.get_counts()\n",
    "\n",
    "#plot_histogram(results)\n",
    "plot_histogram(counts)"
   ]
  },
  {
   "cell_type": "code",
   "execution_count": 9,
   "id": "51f10675",
   "metadata": {},
   "outputs": [
    {
     "data": {
      "image/png": "[encoded data removed]",
      "text/plain": [
       "<Figure size 640x480 with 1 Axes>"
      ]
     },
     "execution_count": 9,
     "metadata": {},
     "output_type": "execute_result"
    }
   ],
   "source": [
    "# Listing 9.4: Use the X‐gate to work with the remainder\n",
    "qc = QuantumCircuit(1)\n",
    "\n",
    "# Set qubit to prior\n",
    "qc.ry(prob_to_angle(0.5), 0)\n",
    "\n",
    "# Switch the qubit's value\n",
    "qc.x(0)\n",
    "\n",
    "qc.measure_all()\n",
    "\n",
    "# execute the qc\n",
    "#results = execute(qc,Aer.get_backend('statevector_simulator')).result().get_counts()\n",
    "\n",
    "job_aer = sampler_aer.run([(qc, None, 1000)]) # running the circuit 1000 times\n",
    "\n",
    "result = job_aer.result()\n",
    "counts = result[0].data.meas.get_counts()\n",
    "\n",
    "plot_histogram(counts)"
   ]
  },
  {
   "cell_type": "code",
   "execution_count": 10,
   "id": "f1c6d84b",
   "metadata": {},
   "outputs": [
    {
     "data": {
      "image/png": "[encoded data removed]",
      "text/plain": [
       "<Figure size 640x480 with 1 Axes>"
      ]
     },
     "execution_count": 10,
     "metadata": {},
     "output_type": "execute_result"
    }
   ],
   "source": [
    "# Listing 9.5: Calculate the joint probability\n",
    "qc = QuantumCircuit(2)\n",
    "\n",
    "# Set qubit to prior\n",
    "qc.ry(prob_to_angle(0.5), 0)\n",
    "\n",
    "# Switch the qubit's value\n",
    "qc.x(0)\n",
    "\n",
    "# Calculate the joint probability of NOT-prior and an event\n",
    "qc.cry(prob_to_angle(0.77), 0,1)  #prob =young = 0.77\n",
    "\n",
    "qc.measure_all()\n",
    "\n",
    "# execute the qc\n",
    "#results = execute(qc,Aer.get_backend('statevector_simulator')).result().get_counts()\n",
    "#plot_histogram(results)\n",
    "\n",
    "\n",
    "job_aer = sampler_aer.run([(qc, None, 1000)]) # running the circuit 1000 times\n",
    "\n",
    "result = job_aer.result()\n",
    "counts = result[0].data.meas.get_counts()\n",
    "\n",
    "plot_histogram(counts)"
   ]
  },
  {
   "cell_type": "code",
   "execution_count": 11,
   "id": "cf12b259",
   "metadata": {},
   "outputs": [
    {
     "data": {
      "image/png": "[encoded data removed]",
      "text/plain": [
       "<Figure size 640x480 with 1 Axes>"
      ]
     },
     "execution_count": 11,
     "metadata": {},
     "output_type": "execute_result"
    }
   ],
   "source": [
    "# Listing 9.5: Calculate the joint probability\n",
    "qc = QuantumCircuit(2)\n",
    "\n",
    "# Set qubit to prior\n",
    "qc.ry(prob_to_angle(0.5), 0)\n",
    "\n",
    "# Switch the qubit's value\n",
    "qc.x(0)\n",
    "\n",
    "# Calculate the joint probability of NOT-prior and an event\n",
    "qc.cry(prob_to_angle(0.49), 0,1)  #prob =old = 0.49\n",
    "\n",
    "qc.measure_all()\n",
    "\n",
    "# execute the qc\n",
    "#results = execute(qc,Aer.get_backend('statevector_simulator')).result().get_counts()\n",
    "#plot_histogram(results)\n",
    "\n",
    "job_aer = sampler_aer.run([(qc, None, 1000)]) # running the circuit 1000 times\n",
    "\n",
    "result = job_aer.result()\n",
    "counts = result[0].data.meas.get_counts()\n",
    "\n",
    "plot_histogram(counts)"
   ]
  },
  {
   "cell_type": "code",
   "execution_count": 12,
   "id": "06c067fa",
   "metadata": {},
   "outputs": [
    {
     "data": {
      "image/png": "[encoded data removed]",
      "text/plain": [
       "<Figure size 640x480 with 1 Axes>"
      ]
     },
     "execution_count": 12,
     "metadata": {},
     "output_type": "execute_result"
    }
   ],
   "source": [
    "# Listing 9.6: Decomposition of the CRY‐gate\n",
    "qc = QuantumCircuit(2)\n",
    "\n",
    "# Set qubit to prior\n",
    "qc.ry(prob_to_angle(0.5), 0)\n",
    "\n",
    "# Switch the qubit's value\n",
    "qc.x(0)\n",
    "\n",
    "# Apply half of the event's probability\n",
    "qc.ry(prob_to_angle(0.77)/2, 1)\n",
    "\n",
    "# entangle qubits 0 and 1\n",
    "qc.cx(0,1)\n",
    "\n",
    "# Apply the other half of ev_b\n",
    "qc.ry(-prob_to_angle(0.77)/2, 1)\n",
    "\n",
    "# unentganle qubits 0 and 1\n",
    "qc.cx(0,1)\n",
    "\n",
    "qc.measure_all()\n",
    "\n",
    "# execute the qc\n",
    "#results = execute(qc,Aer.get_backend('statevector_simulator')).result().get_counts()\n",
    "#plot_histogram(results)\n",
    "\n",
    "\n",
    "job_aer = sampler_aer.run([(qc, None, 1000)]) # running the circuit 1000 times\n",
    "\n",
    "result = job_aer.result()\n",
    "counts = result[0].data.meas.get_counts()\n",
    "\n",
    "plot_histogram(counts)"
   ]
  },
  {
   "cell_type": "code",
   "execution_count": 13,
   "id": "f205fdcf",
   "metadata": {},
   "outputs": [],
   "source": [
    "# Listing 9.7: The CCNOT‐function\n",
    "from math import pi\n",
    "theta = pi/2\n",
    "\n",
    "def ccnot(qc):\n",
    "    # Apply the first half of the rotatione\n",
    "    qc.cry(theta, 1,2)\n",
    "\n",
    "    # This sequence has no effect if both control qubits\n",
    "    # are in state |1>\n",
    "    qc.cx(0,1)\n",
    "    qc.cry(-theta,1,2)\n",
    "    qc.cx(0,1)\n",
    "\n",
    "    # Apply the second half of the rotation\n",
    "    qc.cry(theta, 0,2)\n",
    "\n",
    "    qc.measure_all()\n",
    "\n",
    "    job_aer = sampler_aer.run([(qc, None, 1000)]) # running the circuit 1000 times\n",
    "\n",
    "    result = job_aer.result()\n",
    "    counts = result[0].data.meas.get_counts()\n",
    "\n",
    "\n",
    "\n",
    "    # execute the qc\n",
    "    #return execute(qc,Aer.get_backend('statevector_simulator')).result().get_counts()\n",
    "    return(counts)"
   ]
  },
  {
   "cell_type": "code",
   "execution_count": 14,
   "id": "29716365",
   "metadata": {},
   "outputs": [
    {
     "data": {
      "image/png": "[encoded data removed]",
      "text/plain": [
       "<Figure size 640x480 with 1 Axes>"
      ]
     },
     "execution_count": 14,
     "metadata": {},
     "output_type": "execute_result"
    }
   ],
   "source": [
    "# Listing 9.8: The CCNOT‐gate with both control qubits in state |1>\n",
    "qc = QuantumCircuit(3)\n",
    "\n",
    "# set both qubits to |1>\n",
    "qc.x(0)\n",
    "qc.x(1)\n",
    "\n",
    "\n",
    "\n",
    "# apply the ccnot-gate and execute the qc\n",
    "results = ccnot(qc)\n",
    "plot_histogram(results)"
   ]
  },
  {
   "cell_type": "code",
   "execution_count": 15,
   "id": "1ddaee50",
   "metadata": {},
   "outputs": [
    {
     "data": {
      "image/png": "[encoded data removed]",
      "text/plain": [
       "<Figure size 640x480 with 1 Axes>"
      ]
     },
     "execution_count": 15,
     "metadata": {},
     "output_type": "execute_result"
    }
   ],
   "source": [
    "# Listing 9.9: The CCNOT‐gate with only control qubit q1 in state |1>\n",
    "qc = QuantumCircuit(3)\n",
    "\n",
    "# set only qubit q_1 to |1>\n",
    "qc.x(1)\n",
    "\n",
    "# apply the ccnot-gate and execute the qc\n",
    "results = ccnot(qc)\n",
    "plot_histogram(results)"
   ]
  },
  {
   "cell_type": "code",
   "execution_count": 16,
   "id": "6bcf522d",
   "metadata": {},
   "outputs": [
    {
     "data": {
      "image/png": "[encoded data removed]",
      "text/plain": [
       "<Figure size 640x480 with 1 Axes>"
      ]
     },
     "execution_count": 16,
     "metadata": {},
     "output_type": "execute_result"
    }
   ],
   "source": [
    "# Listing 9.10: The CCNOT‐gate with only control qubit q0 in state |1>\n",
    "qc = QuantumCircuit(3)\n",
    "\n",
    "# set only qubit q_0 to |1>\n",
    "qc.x(0)\n",
    "\n",
    "# apply the ccnot-gate and execute the qc\n",
    "results = ccnot(qc)\n",
    "plot_histogram(results)"
   ]
  },
  {
   "cell_type": "code",
   "execution_count": 17,
   "id": "080c488a",
   "metadata": {},
   "outputs": [],
   "source": [
    "#Section 9.3: Circuit implementation"
   ]
  },
  {
   "cell_type": "code",
   "execution_count": 18,
   "id": "60524678",
   "metadata": {},
   "outputs": [
    {
     "name": "stdout",
     "output_type": "stream",
     "text": [
      "P(Healthy|Normal-Cholesterol) is 0.56\n"
     ]
    }
   ],
   "source": [
    "#Probability to be healthy if the patient has a normal cholesterol\n",
    "\n",
    "nchol = df[df.cholesterol.eq(1)]\n",
    "\n",
    "prob_healthy_nchol = len(nchol[nchol.cardio.eq(0)])/len(nchol)\n",
    "\n",
    "print('P(Healthy|Normal-Cholesterol) is {:.2f}'.format(prob_healthy_nchol)) "
   ]
  },
  {
   "cell_type": "code",
   "execution_count": 19,
   "id": "dbba5067",
   "metadata": {},
   "outputs": [
    {
     "data": {
      "text/plain": [
       "<qiskit.circuit.instructionset.InstructionSet at 0x2063e0fa860>"
      ]
     },
     "execution_count": 19,
     "metadata": {},
     "output_type": "execute_result"
    }
   ],
   "source": [
    "# Initialize the quantum circuit\n",
    "qc = QuantumCircuit(3)\n",
    "\n",
    "# Set qubit0 to p_child\n",
    "qc.ry(prob_to_angle(p_young), 0)\n",
    "\n",
    "# Set qubit1 to p_female\n",
    "qc.ry(prob_to_angle(prob_healthy_nchol), 1)"
   ]
  },
  {
   "cell_type": "code",
   "execution_count": 20,
   "id": "f8512f55",
   "metadata": {},
   "outputs": [],
   "source": [
    "# Listing 9.12: Definition of the CCRY‐gate\n",
    "def ccry(qc, theta, control1, control2, controlled):\n",
    "    qc.cry(theta/2, control2, controlled)\n",
    "    qc.cx(control1, control2)\n",
    "    qc.cry(-theta/2, control2, controlled)\n",
    "    qc.cx(control1, control2)\n",
    "    qc.cry(theta/2, control1, controlled)"
   ]
  },
  {
   "cell_type": "code",
   "execution_count": 21,
   "id": "1bbc221a",
   "metadata": {},
   "outputs": [],
   "source": [
    "# Listing 9.13: Calculate the conditional probabilities\n",
    "# normal cholesterol and young\n",
    "\n",
    "pop_nchol=df[df.cholesterol.eq(1)]\n",
    "\n",
    "pop_nc_y=pop_nchol[pop_nchol.age.le(max_young_age)]\n",
    "healthy_nc_y = pop_nc_y[pop_nc_y.cardio.eq(0)]\n",
    "p_healthy_nc_y=len(healthy_nc_y)/len(pop_nc_y)\n",
    "\n",
    "# normal cholesterol and old\n",
    "pop_nc_o = pop_nchol[pop_nchol.age.gt(max_young_age)]\n",
    "healthy_nc_o=pop_nc_o[pop_nc_o.cardio.eq(0)]\n",
    "p_healthy_nc_o=len(healthy_nc_o)/len(pop_nc_o)\n",
    "\n",
    "# bad cholesterol and young\n",
    "pop_bchol=df[df.cholesterol.eq(2)+ df.cholesterol.eq(2) ] #+ df[df.cholesterol.eq(3)]\n",
    "\n",
    "pop_bc_y=pop_bchol[pop_bchol.age.le(max_young_age)]\n",
    "healthy_bc_y=pop_bc_y[pop_bc_y.cardio.eq(0)]\n",
    "p_healthy_bc_y=len(healthy_bc_y)/len(pop_bc_y)\n",
    "\n",
    "# bad cholesterol and old adults\n",
    "pop_bc_o=pop_bchol[pop_bchol.age.gt(max_young_age)]\n",
    "healthy_bc_o=pop_bc_o[pop_bc_o.cardio.eq(0)]\n",
    "p_healthy_bc_o=len(healthy_bc_o)/len(pop_bc_o)"
   ]
  },
  {
   "cell_type": "code",
   "execution_count": 22,
   "id": "c524b2b6",
   "metadata": {},
   "outputs": [],
   "source": [
    "# Listing 9.14: Initialize the child node\n",
    "# set state |00> to conditional probability of bad cholesterol and old\n",
    "qc.x(0)\n",
    "qc.x(1)\n",
    "ccry(qc,prob_to_angle(p_healthy_bc_o),0,1,2)\n",
    "qc.x(0)\n",
    "qc.x(1)\n",
    "\n",
    "# set state |01> to conditional probability of bad cholesterol and young\n",
    "qc.x(0)\n",
    "ccry(qc,prob_to_angle(p_healthy_bc_y),0,1,2)\n",
    "qc.x(0)\n",
    "\n",
    "# set state |10> to conditional probability of normal cholesterol and old adults\n",
    "qc.x(1)\n",
    "ccry(qc,prob_to_angle(p_healthy_nc_o),0,1,2)\n",
    "qc.x(1)\n",
    "\n",
    "# set state |11> to conditional probability of normal cholesterol and young\n",
    "ccry(qc,prob_to_angle(p_healthy_nc_y),0,1,2)"
   ]
  },
  {
   "cell_type": "code",
   "execution_count": 23,
   "id": "ebdcd087",
   "metadata": {},
   "outputs": [
    {
     "data": {
      "image/png": "[encoded data removed]",
      "text/plain": [
       "<Figure size 640x480 with 1 Axes>"
      ]
     },
     "execution_count": 23,
     "metadata": {},
     "output_type": "execute_result"
    }
   ],
   "source": [
    "# Listing 9.15: Execute the circuit\n",
    "# execute the qc\n",
    "\n",
    "\n",
    "qc.measure_all()\n",
    "\n",
    "job_aer = sampler_aer.run([(qc, None, 1000)]) # running the circuit 1000 times\n",
    "\n",
    "result = job_aer.result()\n",
    "counts = result[0].data.meas.get_counts()\n",
    "\n",
    "plot_histogram(counts)\n",
    "\n",
    "\n",
    "\n",
    "#results = execute(qc,Aer.get_backend('statevector_simulator')).result().get_counts()\n",
    "#plot_histogram(results)"
   ]
  },
  {
   "cell_type": "code",
   "execution_count": 24,
   "id": "5cad7c00",
   "metadata": {},
   "outputs": [],
   "source": [
    "#from qiskit import QuantumRegister, ClassicalRegister\n",
    "\n",
    "\n",
    "# Listing 9.16: A quantum circuit with classical register\n",
    "#qr = QuantumRegister(3)\n",
    "#cr = ClassicalRegister(1)\n",
    "qc = QuantumCircuit(3, 1)"
   ]
  },
  {
   "cell_type": "code",
   "execution_count": 25,
   "id": "b3047dd5",
   "metadata": {},
   "outputs": [
    {
     "data": {
      "image/png": "[encoded data removed]",
      "text/plain": [
       "<Figure size 640x480 with 1 Axes>"
      ]
     },
     "execution_count": 25,
     "metadata": {},
     "output_type": "execute_result"
    }
   ],
   "source": [
    "# Listing 9.17: Run the circuit including a measurement\n",
    "\n",
    "# -- INCLUDE ALL GATES HERE --\n",
    "\n",
    "# Set qubit0 to p_young\n",
    "qc.ry(prob_to_angle(p_young), 0)\n",
    "\n",
    "# Set qubit1 to p_healthy_nchol\n",
    "qc.ry(prob_to_angle(prob_healthy_nchol), 1)\n",
    "\n",
    "# set state |00> to conditional probability of bad cholesterol and old\n",
    "qc.x(0)\n",
    "qc.x(1)\n",
    "ccry(qc,prob_to_angle(p_healthy_bc_o),0,1,2)\n",
    "qc.x(0)\n",
    "qc.x(1)\n",
    "\n",
    "# set state |01> to conditional probability of bad cholesterol and young\n",
    "qc.x(0)\n",
    "ccry(qc,prob_to_angle(p_healthy_bc_y),0,1,2)\n",
    "qc.x(0)\n",
    "\n",
    "# set state |10> to conditional probability of normal cholesterol and old\n",
    "qc.x(1)\n",
    "ccry(qc,prob_to_angle(p_healthy_nc_o),0,1,2)\n",
    "qc.x(1)\n",
    "\n",
    "# set state |11> to conditional probability of normal cholesterol and young\n",
    "ccry(qc,prob_to_angle(p_healthy_nc_y),0,1,2)\n",
    "\n",
    "qc.measure(2, 0)\n",
    "\n",
    "job_aer = sampler_aer.run([(qc, None, 1000)]) # running the circuit 1000 times\n",
    "\n",
    "result = job_aer.result()\n",
    "counts = result[0].data.c.get_counts()  #since I specified the qubit I want to mesure, his name now is 'c' instead of 'meas'\n",
    "\n",
    "plot_histogram(counts)\n",
    "#results = execute(qc,Aer.get_backend('qasm_simulator'), shots=1000).result().get_counts()\n",
    "#plot_histogram(results)"
   ]
  },
  {
   "cell_type": "code",
   "execution_count": 26,
   "id": "dbf32c9c",
   "metadata": {},
   "outputs": [
    {
     "data": {
      "image/png": "[encoded data removed]",
      "text/plain": [
       "<Figure size 640x480 with 1 Axes>"
      ]
     },
     "execution_count": 26,
     "metadata": {},
     "output_type": "execute_result"
    }
   ],
   "source": [
    "# Set qubit0 to p_young\n",
    "qc.ry(prob_to_angle(p_young), 0)\n",
    "\n",
    "# Set qubit1 to p_healthy_nchol\n",
    "qc.ry(prob_to_angle(prob_healthy_nchol), 1)\n",
    "\n",
    "# set state |00> to conditional probability of normal cholesterol and young\n",
    "qc.x(0)\n",
    "qc.x(1)\n",
    "ccry(qc,prob_to_angle(p_healthy_nc_y),0,1,2)\n",
    "qc.x(0)\n",
    "qc.x(1)\n",
    "\n",
    "# set state |01> to conditional probability of normal cholesterol and old\n",
    "qc.x(0)\n",
    "ccry(qc,prob_to_angle(p_healthy_nc_o),0,1,2)\n",
    "qc.x(0)\n",
    "\n",
    "# set state |10> to conditional probability of bad cholesterol and young\n",
    "qc.x(1)\n",
    "ccry(qc,prob_to_angle(p_healthy_bc_y),0,1,2)\n",
    "qc.x(1)\n",
    "\n",
    "# set state |11> to conditional probability of bad cholesterol and old\n",
    "ccry(qc,prob_to_angle(p_healthy_bc_o),0,1,2)\n",
    "\n",
    "qc.measure(2, 0)\n",
    "\n",
    "job_aer = sampler_aer.run([(qc, None, 1000)]) # running the circuit 1000 times\n",
    "\n",
    "result = job_aer.result()\n",
    "counts = result[0].data.c.get_counts()\n",
    "\n",
    "plot_histogram(counts)\n",
    "\n",
    "\n",
    "#results = execute(qc,Aer.get_backend('qasm_simulator'), shots=1000).result().get_counts()\n",
    "#plot_histogram(results)"
   ]
  },
  {
   "cell_type": "code",
   "execution_count": null,
   "id": "8c84ae97",
   "metadata": {},
   "outputs": [],
   "source": []
  },
  {
   "cell_type": "code",
   "execution_count": null,
   "id": "3e310a3c-0737-4fd0-bc7f-3d184ce01efa",
   "metadata": {},
   "outputs": [],
   "source": []
  }
 ],
 "metadata": {
  "kernelspec": {
   "display_name": "Python 3 (ipykernel)",
   "language": "python",
   "name": "python3"
  },
  "language_info": {
   "codemirror_mode": {
    "name": "ipython",
    "version": 3
   },
   "file_extension": ".py",
   "mimetype": "text/x-python",
   "name": "python",
   "nbconvert_exporter": "python",
   "pygments_lexer": "ipython3",
   "version": "3.12.5"
  }
 },
 "nbformat": 4,
 "nbformat_minor": 5
}
